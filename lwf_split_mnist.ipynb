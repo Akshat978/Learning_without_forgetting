{
  "nbformat": 4,
  "nbformat_minor": 0,
  "metadata": {
    "colab": {
      "name": "lwf_split_mnist.ipynb",
      "provenance": [],
      "collapsed_sections": []
    },
    "kernelspec": {
      "display_name": "Python 3",
      "language": "python",
      "name": "python3"
    },
    "language_info": {
      "codemirror_mode": {
        "name": "ipython",
        "version": 3
      },
      "file_extension": ".py",
      "mimetype": "text/x-python",
      "name": "python",
      "nbconvert_exporter": "python",
      "pygments_lexer": "ipython3",
      "version": "3.7.3"
    },
    "accelerator": "GPU",
    "widgets": {
      "application/vnd.jupyter.widget-state+json": {
        "a9a6af2826564eef8c92f1cfbf649746": {
          "model_module": "@jupyter-widgets/controls",
          "model_name": "HBoxModel",
          "state": {
            "_view_name": "HBoxView",
            "_dom_classes": [],
            "_model_name": "HBoxModel",
            "_view_module": "@jupyter-widgets/controls",
            "_model_module_version": "1.5.0",
            "_view_count": null,
            "_view_module_version": "1.5.0",
            "box_style": "",
            "layout": "IPY_MODEL_cd7f011dfad6447db8927f525697d553",
            "_model_module": "@jupyter-widgets/controls",
            "children": [
              "IPY_MODEL_72bbeccf31e345da9118d67d71daf118",
              "IPY_MODEL_1d2c12b1213b408da92bd625f9700457"
            ]
          }
        },
        "cd7f011dfad6447db8927f525697d553": {
          "model_module": "@jupyter-widgets/base",
          "model_name": "LayoutModel",
          "state": {
            "_view_name": "LayoutView",
            "grid_template_rows": null,
            "right": null,
            "justify_content": null,
            "_view_module": "@jupyter-widgets/base",
            "overflow": null,
            "_model_module_version": "1.2.0",
            "_view_count": null,
            "flex_flow": null,
            "width": null,
            "min_width": null,
            "border": null,
            "align_items": null,
            "bottom": null,
            "_model_module": "@jupyter-widgets/base",
            "top": null,
            "grid_column": null,
            "overflow_y": null,
            "overflow_x": null,
            "grid_auto_flow": null,
            "grid_area": null,
            "grid_template_columns": null,
            "flex": null,
            "_model_name": "LayoutModel",
            "justify_items": null,
            "grid_row": null,
            "max_height": null,
            "align_content": null,
            "visibility": null,
            "align_self": null,
            "height": null,
            "min_height": null,
            "padding": null,
            "grid_auto_rows": null,
            "grid_gap": null,
            "max_width": null,
            "order": null,
            "_view_module_version": "1.2.0",
            "grid_template_areas": null,
            "object_position": null,
            "object_fit": null,
            "grid_auto_columns": null,
            "margin": null,
            "display": null,
            "left": null
          }
        },
        "72bbeccf31e345da9118d67d71daf118": {
          "model_module": "@jupyter-widgets/controls",
          "model_name": "FloatProgressModel",
          "state": {
            "_view_name": "ProgressView",
            "style": "IPY_MODEL_91ca68718691424f9ac134c06a7360a7",
            "_dom_classes": [],
            "description": "",
            "_model_name": "FloatProgressModel",
            "bar_style": "success",
            "max": 9912422,
            "_view_module": "@jupyter-widgets/controls",
            "_model_module_version": "1.5.0",
            "value": 9912422,
            "_view_count": null,
            "_view_module_version": "1.5.0",
            "orientation": "horizontal",
            "min": 0,
            "description_tooltip": null,
            "_model_module": "@jupyter-widgets/controls",
            "layout": "IPY_MODEL_f445742268984715a722d7a14e25d17b"
          }
        },
        "1d2c12b1213b408da92bd625f9700457": {
          "model_module": "@jupyter-widgets/controls",
          "model_name": "HTMLModel",
          "state": {
            "_view_name": "HTMLView",
            "style": "IPY_MODEL_b97302532569499b8b2e418179f306c3",
            "_dom_classes": [],
            "description": "",
            "_model_name": "HTMLModel",
            "placeholder": "​",
            "_view_module": "@jupyter-widgets/controls",
            "_model_module_version": "1.5.0",
            "value": " 9913344/? [06:04&lt;00:00, 27191.65it/s]",
            "_view_count": null,
            "_view_module_version": "1.5.0",
            "description_tooltip": null,
            "_model_module": "@jupyter-widgets/controls",
            "layout": "IPY_MODEL_6ba5fb6234ba47a19bda02ba53a6aa21"
          }
        },
        "91ca68718691424f9ac134c06a7360a7": {
          "model_module": "@jupyter-widgets/controls",
          "model_name": "ProgressStyleModel",
          "state": {
            "_view_name": "StyleView",
            "_model_name": "ProgressStyleModel",
            "description_width": "initial",
            "_view_module": "@jupyter-widgets/base",
            "_model_module_version": "1.5.0",
            "_view_count": null,
            "_view_module_version": "1.2.0",
            "bar_color": null,
            "_model_module": "@jupyter-widgets/controls"
          }
        },
        "f445742268984715a722d7a14e25d17b": {
          "model_module": "@jupyter-widgets/base",
          "model_name": "LayoutModel",
          "state": {
            "_view_name": "LayoutView",
            "grid_template_rows": null,
            "right": null,
            "justify_content": null,
            "_view_module": "@jupyter-widgets/base",
            "overflow": null,
            "_model_module_version": "1.2.0",
            "_view_count": null,
            "flex_flow": null,
            "width": null,
            "min_width": null,
            "border": null,
            "align_items": null,
            "bottom": null,
            "_model_module": "@jupyter-widgets/base",
            "top": null,
            "grid_column": null,
            "overflow_y": null,
            "overflow_x": null,
            "grid_auto_flow": null,
            "grid_area": null,
            "grid_template_columns": null,
            "flex": null,
            "_model_name": "LayoutModel",
            "justify_items": null,
            "grid_row": null,
            "max_height": null,
            "align_content": null,
            "visibility": null,
            "align_self": null,
            "height": null,
            "min_height": null,
            "padding": null,
            "grid_auto_rows": null,
            "grid_gap": null,
            "max_width": null,
            "order": null,
            "_view_module_version": "1.2.0",
            "grid_template_areas": null,
            "object_position": null,
            "object_fit": null,
            "grid_auto_columns": null,
            "margin": null,
            "display": null,
            "left": null
          }
        },
        "b97302532569499b8b2e418179f306c3": {
          "model_module": "@jupyter-widgets/controls",
          "model_name": "DescriptionStyleModel",
          "state": {
            "_view_name": "StyleView",
            "_model_name": "DescriptionStyleModel",
            "description_width": "",
            "_view_module": "@jupyter-widgets/base",
            "_model_module_version": "1.5.0",
            "_view_count": null,
            "_view_module_version": "1.2.0",
            "_model_module": "@jupyter-widgets/controls"
          }
        },
        "6ba5fb6234ba47a19bda02ba53a6aa21": {
          "model_module": "@jupyter-widgets/base",
          "model_name": "LayoutModel",
          "state": {
            "_view_name": "LayoutView",
            "grid_template_rows": null,
            "right": null,
            "justify_content": null,
            "_view_module": "@jupyter-widgets/base",
            "overflow": null,
            "_model_module_version": "1.2.0",
            "_view_count": null,
            "flex_flow": null,
            "width": null,
            "min_width": null,
            "border": null,
            "align_items": null,
            "bottom": null,
            "_model_module": "@jupyter-widgets/base",
            "top": null,
            "grid_column": null,
            "overflow_y": null,
            "overflow_x": null,
            "grid_auto_flow": null,
            "grid_area": null,
            "grid_template_columns": null,
            "flex": null,
            "_model_name": "LayoutModel",
            "justify_items": null,
            "grid_row": null,
            "max_height": null,
            "align_content": null,
            "visibility": null,
            "align_self": null,
            "height": null,
            "min_height": null,
            "padding": null,
            "grid_auto_rows": null,
            "grid_gap": null,
            "max_width": null,
            "order": null,
            "_view_module_version": "1.2.0",
            "grid_template_areas": null,
            "object_position": null,
            "object_fit": null,
            "grid_auto_columns": null,
            "margin": null,
            "display": null,
            "left": null
          }
        },
        "5813d788ebfb402ab24933dba8e32ce0": {
          "model_module": "@jupyter-widgets/controls",
          "model_name": "HBoxModel",
          "state": {
            "_view_name": "HBoxView",
            "_dom_classes": [],
            "_model_name": "HBoxModel",
            "_view_module": "@jupyter-widgets/controls",
            "_model_module_version": "1.5.0",
            "_view_count": null,
            "_view_module_version": "1.5.0",
            "box_style": "",
            "layout": "IPY_MODEL_d6917bbb54bc41f3a7c6b98c8ee5edff",
            "_model_module": "@jupyter-widgets/controls",
            "children": [
              "IPY_MODEL_add211126295437f83af8766e65c26f5",
              "IPY_MODEL_7c9e142aa7204e0ba6107900f2189463"
            ]
          }
        },
        "d6917bbb54bc41f3a7c6b98c8ee5edff": {
          "model_module": "@jupyter-widgets/base",
          "model_name": "LayoutModel",
          "state": {
            "_view_name": "LayoutView",
            "grid_template_rows": null,
            "right": null,
            "justify_content": null,
            "_view_module": "@jupyter-widgets/base",
            "overflow": null,
            "_model_module_version": "1.2.0",
            "_view_count": null,
            "flex_flow": null,
            "width": null,
            "min_width": null,
            "border": null,
            "align_items": null,
            "bottom": null,
            "_model_module": "@jupyter-widgets/base",
            "top": null,
            "grid_column": null,
            "overflow_y": null,
            "overflow_x": null,
            "grid_auto_flow": null,
            "grid_area": null,
            "grid_template_columns": null,
            "flex": null,
            "_model_name": "LayoutModel",
            "justify_items": null,
            "grid_row": null,
            "max_height": null,
            "align_content": null,
            "visibility": null,
            "align_self": null,
            "height": null,
            "min_height": null,
            "padding": null,
            "grid_auto_rows": null,
            "grid_gap": null,
            "max_width": null,
            "order": null,
            "_view_module_version": "1.2.0",
            "grid_template_areas": null,
            "object_position": null,
            "object_fit": null,
            "grid_auto_columns": null,
            "margin": null,
            "display": null,
            "left": null
          }
        },
        "add211126295437f83af8766e65c26f5": {
          "model_module": "@jupyter-widgets/controls",
          "model_name": "FloatProgressModel",
          "state": {
            "_view_name": "ProgressView",
            "style": "IPY_MODEL_79991f5d2595420d9e17b5ffba607db7",
            "_dom_classes": [],
            "description": "",
            "_model_name": "FloatProgressModel",
            "bar_style": "success",
            "max": 28881,
            "_view_module": "@jupyter-widgets/controls",
            "_model_module_version": "1.5.0",
            "value": 28881,
            "_view_count": null,
            "_view_module_version": "1.5.0",
            "orientation": "horizontal",
            "min": 0,
            "description_tooltip": null,
            "_model_module": "@jupyter-widgets/controls",
            "layout": "IPY_MODEL_3c3a833c8a904fada31d1b27b9985f84"
          }
        },
        "7c9e142aa7204e0ba6107900f2189463": {
          "model_module": "@jupyter-widgets/controls",
          "model_name": "HTMLModel",
          "state": {
            "_view_name": "HTMLView",
            "style": "IPY_MODEL_4d0c532642c1413caac9fff89a6c31dc",
            "_dom_classes": [],
            "description": "",
            "_model_name": "HTMLModel",
            "placeholder": "​",
            "_view_module": "@jupyter-widgets/controls",
            "_model_module_version": "1.5.0",
            "value": " 29696/? [00:50&lt;00:00, 588.75it/s]",
            "_view_count": null,
            "_view_module_version": "1.5.0",
            "description_tooltip": null,
            "_model_module": "@jupyter-widgets/controls",
            "layout": "IPY_MODEL_358c53b06ac4433fa5d72624abbd90bd"
          }
        },
        "79991f5d2595420d9e17b5ffba607db7": {
          "model_module": "@jupyter-widgets/controls",
          "model_name": "ProgressStyleModel",
          "state": {
            "_view_name": "StyleView",
            "_model_name": "ProgressStyleModel",
            "description_width": "initial",
            "_view_module": "@jupyter-widgets/base",
            "_model_module_version": "1.5.0",
            "_view_count": null,
            "_view_module_version": "1.2.0",
            "bar_color": null,
            "_model_module": "@jupyter-widgets/controls"
          }
        },
        "3c3a833c8a904fada31d1b27b9985f84": {
          "model_module": "@jupyter-widgets/base",
          "model_name": "LayoutModel",
          "state": {
            "_view_name": "LayoutView",
            "grid_template_rows": null,
            "right": null,
            "justify_content": null,
            "_view_module": "@jupyter-widgets/base",
            "overflow": null,
            "_model_module_version": "1.2.0",
            "_view_count": null,
            "flex_flow": null,
            "width": null,
            "min_width": null,
            "border": null,
            "align_items": null,
            "bottom": null,
            "_model_module": "@jupyter-widgets/base",
            "top": null,
            "grid_column": null,
            "overflow_y": null,
            "overflow_x": null,
            "grid_auto_flow": null,
            "grid_area": null,
            "grid_template_columns": null,
            "flex": null,
            "_model_name": "LayoutModel",
            "justify_items": null,
            "grid_row": null,
            "max_height": null,
            "align_content": null,
            "visibility": null,
            "align_self": null,
            "height": null,
            "min_height": null,
            "padding": null,
            "grid_auto_rows": null,
            "grid_gap": null,
            "max_width": null,
            "order": null,
            "_view_module_version": "1.2.0",
            "grid_template_areas": null,
            "object_position": null,
            "object_fit": null,
            "grid_auto_columns": null,
            "margin": null,
            "display": null,
            "left": null
          }
        },
        "4d0c532642c1413caac9fff89a6c31dc": {
          "model_module": "@jupyter-widgets/controls",
          "model_name": "DescriptionStyleModel",
          "state": {
            "_view_name": "StyleView",
            "_model_name": "DescriptionStyleModel",
            "description_width": "",
            "_view_module": "@jupyter-widgets/base",
            "_model_module_version": "1.5.0",
            "_view_count": null,
            "_view_module_version": "1.2.0",
            "_model_module": "@jupyter-widgets/controls"
          }
        },
        "358c53b06ac4433fa5d72624abbd90bd": {
          "model_module": "@jupyter-widgets/base",
          "model_name": "LayoutModel",
          "state": {
            "_view_name": "LayoutView",
            "grid_template_rows": null,
            "right": null,
            "justify_content": null,
            "_view_module": "@jupyter-widgets/base",
            "overflow": null,
            "_model_module_version": "1.2.0",
            "_view_count": null,
            "flex_flow": null,
            "width": null,
            "min_width": null,
            "border": null,
            "align_items": null,
            "bottom": null,
            "_model_module": "@jupyter-widgets/base",
            "top": null,
            "grid_column": null,
            "overflow_y": null,
            "overflow_x": null,
            "grid_auto_flow": null,
            "grid_area": null,
            "grid_template_columns": null,
            "flex": null,
            "_model_name": "LayoutModel",
            "justify_items": null,
            "grid_row": null,
            "max_height": null,
            "align_content": null,
            "visibility": null,
            "align_self": null,
            "height": null,
            "min_height": null,
            "padding": null,
            "grid_auto_rows": null,
            "grid_gap": null,
            "max_width": null,
            "order": null,
            "_view_module_version": "1.2.0",
            "grid_template_areas": null,
            "object_position": null,
            "object_fit": null,
            "grid_auto_columns": null,
            "margin": null,
            "display": null,
            "left": null
          }
        },
        "25bbc288f1374185a9c376b0cd5698a0": {
          "model_module": "@jupyter-widgets/controls",
          "model_name": "HBoxModel",
          "state": {
            "_view_name": "HBoxView",
            "_dom_classes": [],
            "_model_name": "HBoxModel",
            "_view_module": "@jupyter-widgets/controls",
            "_model_module_version": "1.5.0",
            "_view_count": null,
            "_view_module_version": "1.5.0",
            "box_style": "",
            "layout": "IPY_MODEL_5ed18c7534164425bbe42653dd0b947d",
            "_model_module": "@jupyter-widgets/controls",
            "children": [
              "IPY_MODEL_c7f5a1d7b1644d738727b7f6ab2f9ec2",
              "IPY_MODEL_94ec23b32bef468781b8401e8650ceae"
            ]
          }
        },
        "5ed18c7534164425bbe42653dd0b947d": {
          "model_module": "@jupyter-widgets/base",
          "model_name": "LayoutModel",
          "state": {
            "_view_name": "LayoutView",
            "grid_template_rows": null,
            "right": null,
            "justify_content": null,
            "_view_module": "@jupyter-widgets/base",
            "overflow": null,
            "_model_module_version": "1.2.0",
            "_view_count": null,
            "flex_flow": null,
            "width": null,
            "min_width": null,
            "border": null,
            "align_items": null,
            "bottom": null,
            "_model_module": "@jupyter-widgets/base",
            "top": null,
            "grid_column": null,
            "overflow_y": null,
            "overflow_x": null,
            "grid_auto_flow": null,
            "grid_area": null,
            "grid_template_columns": null,
            "flex": null,
            "_model_name": "LayoutModel",
            "justify_items": null,
            "grid_row": null,
            "max_height": null,
            "align_content": null,
            "visibility": null,
            "align_self": null,
            "height": null,
            "min_height": null,
            "padding": null,
            "grid_auto_rows": null,
            "grid_gap": null,
            "max_width": null,
            "order": null,
            "_view_module_version": "1.2.0",
            "grid_template_areas": null,
            "object_position": null,
            "object_fit": null,
            "grid_auto_columns": null,
            "margin": null,
            "display": null,
            "left": null
          }
        },
        "c7f5a1d7b1644d738727b7f6ab2f9ec2": {
          "model_module": "@jupyter-widgets/controls",
          "model_name": "FloatProgressModel",
          "state": {
            "_view_name": "ProgressView",
            "style": "IPY_MODEL_1dd2600c8bb44625b12c425ecbe7488d",
            "_dom_classes": [],
            "description": "",
            "_model_name": "FloatProgressModel",
            "bar_style": "success",
            "max": 1648877,
            "_view_module": "@jupyter-widgets/controls",
            "_model_module_version": "1.5.0",
            "value": 1648877,
            "_view_count": null,
            "_view_module_version": "1.5.0",
            "orientation": "horizontal",
            "min": 0,
            "description_tooltip": null,
            "_model_module": "@jupyter-widgets/controls",
            "layout": "IPY_MODEL_d6bbbbb49f274c65bcda574184eaabb6"
          }
        },
        "94ec23b32bef468781b8401e8650ceae": {
          "model_module": "@jupyter-widgets/controls",
          "model_name": "HTMLModel",
          "state": {
            "_view_name": "HTMLView",
            "style": "IPY_MODEL_dd8e8e576f144677ba10e0a34d469b7b",
            "_dom_classes": [],
            "description": "",
            "_model_name": "HTMLModel",
            "placeholder": "​",
            "_view_module": "@jupyter-widgets/controls",
            "_model_module_version": "1.5.0",
            "value": " 1649664/? [00:49&lt;00:00, 33048.75it/s]",
            "_view_count": null,
            "_view_module_version": "1.5.0",
            "description_tooltip": null,
            "_model_module": "@jupyter-widgets/controls",
            "layout": "IPY_MODEL_f14c37037cf942ba906be951386d32ea"
          }
        },
        "1dd2600c8bb44625b12c425ecbe7488d": {
          "model_module": "@jupyter-widgets/controls",
          "model_name": "ProgressStyleModel",
          "state": {
            "_view_name": "StyleView",
            "_model_name": "ProgressStyleModel",
            "description_width": "initial",
            "_view_module": "@jupyter-widgets/base",
            "_model_module_version": "1.5.0",
            "_view_count": null,
            "_view_module_version": "1.2.0",
            "bar_color": null,
            "_model_module": "@jupyter-widgets/controls"
          }
        },
        "d6bbbbb49f274c65bcda574184eaabb6": {
          "model_module": "@jupyter-widgets/base",
          "model_name": "LayoutModel",
          "state": {
            "_view_name": "LayoutView",
            "grid_template_rows": null,
            "right": null,
            "justify_content": null,
            "_view_module": "@jupyter-widgets/base",
            "overflow": null,
            "_model_module_version": "1.2.0",
            "_view_count": null,
            "flex_flow": null,
            "width": null,
            "min_width": null,
            "border": null,
            "align_items": null,
            "bottom": null,
            "_model_module": "@jupyter-widgets/base",
            "top": null,
            "grid_column": null,
            "overflow_y": null,
            "overflow_x": null,
            "grid_auto_flow": null,
            "grid_area": null,
            "grid_template_columns": null,
            "flex": null,
            "_model_name": "LayoutModel",
            "justify_items": null,
            "grid_row": null,
            "max_height": null,
            "align_content": null,
            "visibility": null,
            "align_self": null,
            "height": null,
            "min_height": null,
            "padding": null,
            "grid_auto_rows": null,
            "grid_gap": null,
            "max_width": null,
            "order": null,
            "_view_module_version": "1.2.0",
            "grid_template_areas": null,
            "object_position": null,
            "object_fit": null,
            "grid_auto_columns": null,
            "margin": null,
            "display": null,
            "left": null
          }
        },
        "dd8e8e576f144677ba10e0a34d469b7b": {
          "model_module": "@jupyter-widgets/controls",
          "model_name": "DescriptionStyleModel",
          "state": {
            "_view_name": "StyleView",
            "_model_name": "DescriptionStyleModel",
            "description_width": "",
            "_view_module": "@jupyter-widgets/base",
            "_model_module_version": "1.5.0",
            "_view_count": null,
            "_view_module_version": "1.2.0",
            "_model_module": "@jupyter-widgets/controls"
          }
        },
        "f14c37037cf942ba906be951386d32ea": {
          "model_module": "@jupyter-widgets/base",
          "model_name": "LayoutModel",
          "state": {
            "_view_name": "LayoutView",
            "grid_template_rows": null,
            "right": null,
            "justify_content": null,
            "_view_module": "@jupyter-widgets/base",
            "overflow": null,
            "_model_module_version": "1.2.0",
            "_view_count": null,
            "flex_flow": null,
            "width": null,
            "min_width": null,
            "border": null,
            "align_items": null,
            "bottom": null,
            "_model_module": "@jupyter-widgets/base",
            "top": null,
            "grid_column": null,
            "overflow_y": null,
            "overflow_x": null,
            "grid_auto_flow": null,
            "grid_area": null,
            "grid_template_columns": null,
            "flex": null,
            "_model_name": "LayoutModel",
            "justify_items": null,
            "grid_row": null,
            "max_height": null,
            "align_content": null,
            "visibility": null,
            "align_self": null,
            "height": null,
            "min_height": null,
            "padding": null,
            "grid_auto_rows": null,
            "grid_gap": null,
            "max_width": null,
            "order": null,
            "_view_module_version": "1.2.0",
            "grid_template_areas": null,
            "object_position": null,
            "object_fit": null,
            "grid_auto_columns": null,
            "margin": null,
            "display": null,
            "left": null
          }
        },
        "350133b9147c47329d0ff3d69f801804": {
          "model_module": "@jupyter-widgets/controls",
          "model_name": "HBoxModel",
          "state": {
            "_view_name": "HBoxView",
            "_dom_classes": [],
            "_model_name": "HBoxModel",
            "_view_module": "@jupyter-widgets/controls",
            "_model_module_version": "1.5.0",
            "_view_count": null,
            "_view_module_version": "1.5.0",
            "box_style": "",
            "layout": "IPY_MODEL_6d740c0e3e914b0caf0abf60e6ef21ec",
            "_model_module": "@jupyter-widgets/controls",
            "children": [
              "IPY_MODEL_7327c72e7bf749e888f86b765aa60ed9",
              "IPY_MODEL_11addfcc304b4023ae33f00dc15f607a"
            ]
          }
        },
        "6d740c0e3e914b0caf0abf60e6ef21ec": {
          "model_module": "@jupyter-widgets/base",
          "model_name": "LayoutModel",
          "state": {
            "_view_name": "LayoutView",
            "grid_template_rows": null,
            "right": null,
            "justify_content": null,
            "_view_module": "@jupyter-widgets/base",
            "overflow": null,
            "_model_module_version": "1.2.0",
            "_view_count": null,
            "flex_flow": null,
            "width": null,
            "min_width": null,
            "border": null,
            "align_items": null,
            "bottom": null,
            "_model_module": "@jupyter-widgets/base",
            "top": null,
            "grid_column": null,
            "overflow_y": null,
            "overflow_x": null,
            "grid_auto_flow": null,
            "grid_area": null,
            "grid_template_columns": null,
            "flex": null,
            "_model_name": "LayoutModel",
            "justify_items": null,
            "grid_row": null,
            "max_height": null,
            "align_content": null,
            "visibility": null,
            "align_self": null,
            "height": null,
            "min_height": null,
            "padding": null,
            "grid_auto_rows": null,
            "grid_gap": null,
            "max_width": null,
            "order": null,
            "_view_module_version": "1.2.0",
            "grid_template_areas": null,
            "object_position": null,
            "object_fit": null,
            "grid_auto_columns": null,
            "margin": null,
            "display": null,
            "left": null
          }
        },
        "7327c72e7bf749e888f86b765aa60ed9": {
          "model_module": "@jupyter-widgets/controls",
          "model_name": "FloatProgressModel",
          "state": {
            "_view_name": "ProgressView",
            "style": "IPY_MODEL_37f22cc3f50d4badb4eb11d7b49f5b28",
            "_dom_classes": [],
            "description": "",
            "_model_name": "FloatProgressModel",
            "bar_style": "success",
            "max": 4542,
            "_view_module": "@jupyter-widgets/controls",
            "_model_module_version": "1.5.0",
            "value": 4542,
            "_view_count": null,
            "_view_module_version": "1.5.0",
            "orientation": "horizontal",
            "min": 0,
            "description_tooltip": null,
            "_model_module": "@jupyter-widgets/controls",
            "layout": "IPY_MODEL_ed13488767234ff0aabdf3e38314705d"
          }
        },
        "11addfcc304b4023ae33f00dc15f607a": {
          "model_module": "@jupyter-widgets/controls",
          "model_name": "HTMLModel",
          "state": {
            "_view_name": "HTMLView",
            "style": "IPY_MODEL_73c5efc1b8794ea2b5a8d1d5f142d3d8",
            "_dom_classes": [],
            "description": "",
            "_model_name": "HTMLModel",
            "placeholder": "​",
            "_view_module": "@jupyter-widgets/controls",
            "_model_module_version": "1.5.0",
            "value": " 5120/? [00:19&lt;00:00, 264.16it/s]",
            "_view_count": null,
            "_view_module_version": "1.5.0",
            "description_tooltip": null,
            "_model_module": "@jupyter-widgets/controls",
            "layout": "IPY_MODEL_9e7a71d7d83c467482ff357d6bb419dc"
          }
        },
        "37f22cc3f50d4badb4eb11d7b49f5b28": {
          "model_module": "@jupyter-widgets/controls",
          "model_name": "ProgressStyleModel",
          "state": {
            "_view_name": "StyleView",
            "_model_name": "ProgressStyleModel",
            "description_width": "initial",
            "_view_module": "@jupyter-widgets/base",
            "_model_module_version": "1.5.0",
            "_view_count": null,
            "_view_module_version": "1.2.0",
            "bar_color": null,
            "_model_module": "@jupyter-widgets/controls"
          }
        },
        "ed13488767234ff0aabdf3e38314705d": {
          "model_module": "@jupyter-widgets/base",
          "model_name": "LayoutModel",
          "state": {
            "_view_name": "LayoutView",
            "grid_template_rows": null,
            "right": null,
            "justify_content": null,
            "_view_module": "@jupyter-widgets/base",
            "overflow": null,
            "_model_module_version": "1.2.0",
            "_view_count": null,
            "flex_flow": null,
            "width": null,
            "min_width": null,
            "border": null,
            "align_items": null,
            "bottom": null,
            "_model_module": "@jupyter-widgets/base",
            "top": null,
            "grid_column": null,
            "overflow_y": null,
            "overflow_x": null,
            "grid_auto_flow": null,
            "grid_area": null,
            "grid_template_columns": null,
            "flex": null,
            "_model_name": "LayoutModel",
            "justify_items": null,
            "grid_row": null,
            "max_height": null,
            "align_content": null,
            "visibility": null,
            "align_self": null,
            "height": null,
            "min_height": null,
            "padding": null,
            "grid_auto_rows": null,
            "grid_gap": null,
            "max_width": null,
            "order": null,
            "_view_module_version": "1.2.0",
            "grid_template_areas": null,
            "object_position": null,
            "object_fit": null,
            "grid_auto_columns": null,
            "margin": null,
            "display": null,
            "left": null
          }
        },
        "73c5efc1b8794ea2b5a8d1d5f142d3d8": {
          "model_module": "@jupyter-widgets/controls",
          "model_name": "DescriptionStyleModel",
          "state": {
            "_view_name": "StyleView",
            "_model_name": "DescriptionStyleModel",
            "description_width": "",
            "_view_module": "@jupyter-widgets/base",
            "_model_module_version": "1.5.0",
            "_view_count": null,
            "_view_module_version": "1.2.0",
            "_model_module": "@jupyter-widgets/controls"
          }
        },
        "9e7a71d7d83c467482ff357d6bb419dc": {
          "model_module": "@jupyter-widgets/base",
          "model_name": "LayoutModel",
          "state": {
            "_view_name": "LayoutView",
            "grid_template_rows": null,
            "right": null,
            "justify_content": null,
            "_view_module": "@jupyter-widgets/base",
            "overflow": null,
            "_model_module_version": "1.2.0",
            "_view_count": null,
            "flex_flow": null,
            "width": null,
            "min_width": null,
            "border": null,
            "align_items": null,
            "bottom": null,
            "_model_module": "@jupyter-widgets/base",
            "top": null,
            "grid_column": null,
            "overflow_y": null,
            "overflow_x": null,
            "grid_auto_flow": null,
            "grid_area": null,
            "grid_template_columns": null,
            "flex": null,
            "_model_name": "LayoutModel",
            "justify_items": null,
            "grid_row": null,
            "max_height": null,
            "align_content": null,
            "visibility": null,
            "align_self": null,
            "height": null,
            "min_height": null,
            "padding": null,
            "grid_auto_rows": null,
            "grid_gap": null,
            "max_width": null,
            "order": null,
            "_view_module_version": "1.2.0",
            "grid_template_areas": null,
            "object_position": null,
            "object_fit": null,
            "grid_auto_columns": null,
            "margin": null,
            "display": null,
            "left": null
          }
        }
      }
    }
  },
  "cells": [
    {
      "cell_type": "markdown",
      "metadata": {
        "id": "RYmCErDW70yY"
      },
      "source": [
        "**IMPORTING REQUIRED LIBRARIES**"
      ]
    },
    {
      "cell_type": "code",
      "metadata": {
        "id": "fX3rQLNQ1ZuH",
        "colab": {
          "base_uri": "https://localhost:8080/"
        },
        "outputId": "84f38ba5-b5ae-467e-aa35-1f36280f171e"
      },
      "source": [
        "import os\n",
        "os.environ['CUDA_LAUNCH_BLOCKING'] = \"1\"\n",
        "\n",
        "import torch\n",
        "from copy import deepcopy\n",
        "import copy\n",
        "from torch import nn\n",
        "from tqdm import tqdm\n",
        "from torch.nn import functional as F\n",
        "import torch.optim as optim\n",
        "import torch.utils.data\n",
        "import matplotlib.pyplot as plt\n",
        "\n",
        "from torchvision import datasets, transforms\n",
        "import random\n",
        "import PIL.Image as Image\n",
        "import random\n",
        "torch.manual_seed(0)"
      ],
      "execution_count": null,
      "outputs": [
        {
          "output_type": "execute_result",
          "data": {
            "text/plain": [
              "<torch._C.Generator at 0x7f42b726d930>"
            ]
          },
          "metadata": {
            "tags": []
          },
          "execution_count": 1
        }
      ]
    },
    {
      "cell_type": "code",
      "metadata": {
        "id": "NM1f6uE31ZuK"
      },
      "source": [
        "batch_size = 64\n",
        "num_task = 5"
      ],
      "execution_count": null,
      "outputs": []
    },
    {
      "cell_type": "code",
      "metadata": {
        "colab": {
          "base_uri": "https://localhost:8080/",
          "height": 659,
          "referenced_widgets": [
            "a9a6af2826564eef8c92f1cfbf649746",
            "cd7f011dfad6447db8927f525697d553",
            "72bbeccf31e345da9118d67d71daf118",
            "1d2c12b1213b408da92bd625f9700457",
            "91ca68718691424f9ac134c06a7360a7",
            "f445742268984715a722d7a14e25d17b",
            "b97302532569499b8b2e418179f306c3",
            "6ba5fb6234ba47a19bda02ba53a6aa21",
            "5813d788ebfb402ab24933dba8e32ce0",
            "d6917bbb54bc41f3a7c6b98c8ee5edff",
            "add211126295437f83af8766e65c26f5",
            "7c9e142aa7204e0ba6107900f2189463",
            "79991f5d2595420d9e17b5ffba607db7",
            "3c3a833c8a904fada31d1b27b9985f84",
            "4d0c532642c1413caac9fff89a6c31dc",
            "358c53b06ac4433fa5d72624abbd90bd",
            "25bbc288f1374185a9c376b0cd5698a0",
            "5ed18c7534164425bbe42653dd0b947d",
            "c7f5a1d7b1644d738727b7f6ab2f9ec2",
            "94ec23b32bef468781b8401e8650ceae",
            "1dd2600c8bb44625b12c425ecbe7488d",
            "d6bbbbb49f274c65bcda574184eaabb6",
            "dd8e8e576f144677ba10e0a34d469b7b",
            "f14c37037cf942ba906be951386d32ea",
            "350133b9147c47329d0ff3d69f801804",
            "6d740c0e3e914b0caf0abf60e6ef21ec",
            "7327c72e7bf749e888f86b765aa60ed9",
            "11addfcc304b4023ae33f00dc15f607a",
            "37f22cc3f50d4badb4eb11d7b49f5b28",
            "ed13488767234ff0aabdf3e38314705d",
            "73c5efc1b8794ea2b5a8d1d5f142d3d8",
            "9e7a71d7d83c467482ff357d6bb419dc"
          ]
        },
        "id": "L9t9RhZO1ZuK",
        "outputId": "0030c2c2-91c2-41b5-f63b-26bad0c93aa6"
      },
      "source": [
        "class SplitMNIST(datasets.MNIST):\n",
        "    tasks = {\n",
        "        0: [0,1],\n",
        "        1: [2,3],\n",
        "        2: [4,5],\n",
        "        3: [6,7],\n",
        "        4: [8,9],\n",
        "    }\n",
        "    \n",
        "    def __init__(self, root=\"/vandal/datasets\", train=True, task=0, cum=True, binary=False):\n",
        "        super().__init__(root, train, download=True)\n",
        "        if not train and cum:\n",
        "            classes = [i for t in range(task + 1) for i in SplitMNIST.tasks[t]]\n",
        "        else:\n",
        "            classes = [i for i in SplitMNIST.tasks[task]]\n",
        "        self.idx = [i for i in range(len(self.targets)) if self.targets[i] in classes]\n",
        "        self.transform = transforms.ToTensor()\n",
        "        self.task = task\n",
        "        self.cum = cum\n",
        "        self.binary = binary\n",
        "        self.train = train\n",
        "        # print(classes)\n",
        "        # print(self.targets)\n",
        "        # print(self.targets[0] in classes)\n",
        "        # print(self.idx)\n",
        "    \n",
        "    def __len__(self):\n",
        "        return len(self.idx)\n",
        "\n",
        "    def __getitem__(self, index):\n",
        "        img, target = self.data[self.idx[index]], self.targets[self.idx[index]]\n",
        "        img = Image.fromarray(img.numpy(), mode='L')\n",
        "        img = self.transform(img)\n",
        "        \n",
        "        if (self.binary and not self.cum):\n",
        "            target = target - self.task*2\n",
        "        # print(target)\n",
        "        return img, target\n",
        "\n",
        "for b,(x,y) in enumerate(torch.utils.data.DataLoader(SplitMNIST(train=False,binary=True,cum=False, task=2),\n",
        "                                                      batch_size=batch_size,\n",
        "                                                      num_workers=4)):\n",
        "  print(y)\n",
        "  print(x.size())\n",
        "  print(x.dtype)\n",
        "  break"
      ],
      "execution_count": null,
      "outputs": [
        {
          "output_type": "stream",
          "text": [
            "Downloading http://yann.lecun.com/exdb/mnist/train-images-idx3-ubyte.gz\n",
            "Downloading http://yann.lecun.com/exdb/mnist/train-images-idx3-ubyte.gz to /vandal/datasets/SplitMNIST/raw/train-images-idx3-ubyte.gz\n"
          ],
          "name": "stdout"
        },
        {
          "output_type": "display_data",
          "data": {
            "application/vnd.jupyter.widget-view+json": {
              "model_id": "a9a6af2826564eef8c92f1cfbf649746",
              "version_minor": 0,
              "version_major": 2
            },
            "text/plain": [
              "HBox(children=(FloatProgress(value=0.0, max=9912422.0), HTML(value='')))"
            ]
          },
          "metadata": {
            "tags": []
          }
        },
        {
          "output_type": "stream",
          "text": [
            "\n",
            "Extracting /vandal/datasets/SplitMNIST/raw/train-images-idx3-ubyte.gz to /vandal/datasets/SplitMNIST/raw\n",
            "\n",
            "Downloading http://yann.lecun.com/exdb/mnist/train-labels-idx1-ubyte.gz\n",
            "Downloading http://yann.lecun.com/exdb/mnist/train-labels-idx1-ubyte.gz to /vandal/datasets/SplitMNIST/raw/train-labels-idx1-ubyte.gz\n"
          ],
          "name": "stdout"
        },
        {
          "output_type": "display_data",
          "data": {
            "application/vnd.jupyter.widget-view+json": {
              "model_id": "5813d788ebfb402ab24933dba8e32ce0",
              "version_minor": 0,
              "version_major": 2
            },
            "text/plain": [
              "HBox(children=(FloatProgress(value=0.0, max=28881.0), HTML(value='')))"
            ]
          },
          "metadata": {
            "tags": []
          }
        },
        {
          "output_type": "stream",
          "text": [
            "\n",
            "Extracting /vandal/datasets/SplitMNIST/raw/train-labels-idx1-ubyte.gz to /vandal/datasets/SplitMNIST/raw\n",
            "\n",
            "Downloading http://yann.lecun.com/exdb/mnist/t10k-images-idx3-ubyte.gz\n",
            "Downloading http://yann.lecun.com/exdb/mnist/t10k-images-idx3-ubyte.gz to /vandal/datasets/SplitMNIST/raw/t10k-images-idx3-ubyte.gz\n"
          ],
          "name": "stdout"
        },
        {
          "output_type": "display_data",
          "data": {
            "application/vnd.jupyter.widget-view+json": {
              "model_id": "25bbc288f1374185a9c376b0cd5698a0",
              "version_minor": 0,
              "version_major": 2
            },
            "text/plain": [
              "HBox(children=(FloatProgress(value=0.0, max=1648877.0), HTML(value='')))"
            ]
          },
          "metadata": {
            "tags": []
          }
        },
        {
          "output_type": "stream",
          "text": [
            "\n",
            "Extracting /vandal/datasets/SplitMNIST/raw/t10k-images-idx3-ubyte.gz to /vandal/datasets/SplitMNIST/raw\n",
            "\n",
            "Downloading http://yann.lecun.com/exdb/mnist/t10k-labels-idx1-ubyte.gz\n",
            "Downloading http://yann.lecun.com/exdb/mnist/t10k-labels-idx1-ubyte.gz to /vandal/datasets/SplitMNIST/raw/t10k-labels-idx1-ubyte.gz\n"
          ],
          "name": "stdout"
        },
        {
          "output_type": "display_data",
          "data": {
            "application/vnd.jupyter.widget-view+json": {
              "model_id": "350133b9147c47329d0ff3d69f801804",
              "version_minor": 0,
              "version_major": 2
            },
            "text/plain": [
              "HBox(children=(FloatProgress(value=0.0, max=4542.0), HTML(value='')))"
            ]
          },
          "metadata": {
            "tags": []
          }
        },
        {
          "output_type": "stream",
          "text": [
            "\n",
            "Extracting /vandal/datasets/SplitMNIST/raw/t10k-labels-idx1-ubyte.gz to /vandal/datasets/SplitMNIST/raw\n",
            "\n"
          ],
          "name": "stdout"
        },
        {
          "output_type": "stream",
          "text": [
            "/usr/local/lib/python3.7/dist-packages/torchvision/datasets/mnist.py:498: UserWarning: The given NumPy array is not writeable, and PyTorch does not support non-writeable tensors. This means you can write to the underlying (supposedly non-writeable) NumPy array using the tensor. You may want to copy the array to protect its data or make it writeable before converting it to a tensor. This type of warning will be suppressed for the rest of this program. (Triggered internally at  /pytorch/torch/csrc/utils/tensor_numpy.cpp:180.)\n",
            "  return torch.from_numpy(parsed.astype(m[2], copy=False)).view(*s)\n",
            "/usr/local/lib/python3.7/dist-packages/torch/utils/data/dataloader.py:481: UserWarning: This DataLoader will create 4 worker processes in total. Our suggested max number of worker in current system is 2, which is smaller than what this DataLoader is going to create. Please be aware that excessive worker creation might get DataLoader running slow or even freeze, lower the worker number to avoid potential slowness/freeze if necessary.\n",
            "  cpuset_checked))\n"
          ],
          "name": "stderr"
        },
        {
          "output_type": "stream",
          "text": [
            "tensor([0, 0, 1, 1, 0, 1, 0, 0, 0, 0, 1, 0, 0, 1, 1, 0, 1, 0, 0, 0, 0, 1, 0, 0,\n",
            "        0, 0, 0, 1, 0, 1, 1, 1, 0, 1, 1, 1, 0, 0, 1, 0, 1, 0, 1, 0, 0, 1, 1, 0,\n",
            "        1, 0, 1, 1, 1, 0, 0, 1, 0, 0, 0, 1, 1, 0, 1, 0])\n",
            "torch.Size([64, 1, 28, 28])\n",
            "torch.float32\n"
          ],
          "name": "stdout"
        }
      ]
    },
    {
      "cell_type": "code",
      "metadata": {
        "colab": {
          "base_uri": "https://localhost:8080/"
        },
        "id": "9jF7_mpa8Vmy",
        "outputId": "428336fa-c48c-47e2-a52b-2b4ceba5743d"
      },
      "source": [
        "device = \"cuda\" if torch.cuda.is_available() else \"cpu\"\n",
        "print(\"Using {} device\".format(device))\n",
        "\n",
        "# Define model\n",
        "class NeuralNetwork(nn.Module):\n",
        "  # ([W-F+2P]/S)+1.\n",
        "  def __init__(self):\n",
        "    super(NeuralNetwork, self).__init__()\n",
        "    self.conv1 = nn.Sequential(         \n",
        "        nn.Conv2d(\n",
        "            in_channels=1,              \n",
        "            out_channels=16,            \n",
        "            kernel_size=5,              \n",
        "            stride=1,                   \n",
        "            padding=2,                  \n",
        "        ),                              \n",
        "        nn.ReLU(),                      \n",
        "        nn.MaxPool2d(kernel_size=2),    \n",
        "    )\n",
        "    self.conv2 = nn.Sequential(         \n",
        "        nn.Conv2d(16, 32, 5, 1, 2),     \n",
        "        nn.ReLU(),                      \n",
        "        nn.MaxPool2d(2),                \n",
        "    )\n",
        "            # fully connected layer, output 10 classes\n",
        "    self.out = nn.Linear(32 * 7 * 7, 2)\n",
        "\n",
        "  def forward(self, x):\n",
        "    x = self.conv1(x)\n",
        "    x = self.conv2(x)\n",
        "    # flatten the output of conv2 to (batch_size, 32 * 7 * 7)\n",
        "    x = x.view(x.size(0), -1)       \n",
        "    output = self.out(x)\n",
        "    return output    # return x for visualization\n",
        "\n",
        "model = NeuralNetwork().to(device)\n"
      ],
      "execution_count": null,
      "outputs": [
        {
          "output_type": "stream",
          "text": [
            "Using cuda device\n"
          ],
          "name": "stdout"
        }
      ]
    },
    {
      "cell_type": "markdown",
      "metadata": {
        "id": "ofDcFQQia4aS"
      },
      "source": [
        "**MODIFIED LOADERS**\n",
        "### TRAIN LOADERS (both non-commulative)\n",
        "- **Train Loader** = Classes with right labels (for binary classification)\n",
        "-**Train Loader binary** = Clasess with labels as 0 and 1 (for binary classification)\n",
        "\n",
        "### TEST LOADERS\n",
        "- **Test Loader no cum** = No commulative classes from previous tasks and right labels.\n",
        "- **Test Loader** = *Commulative Classes* from previous task(for eg, task 2 will contain images of 0,1,2,3)\n",
        "- **Test Loader binary** = Non commulative and labels as 0,1 (for binary classification)\n",
        "\n",
        "\n",
        "\n",
        "\n"
      ]
    },
    {
      "cell_type": "code",
      "metadata": {
        "colab": {
          "base_uri": "https://localhost:8080/"
        },
        "id": "RHEl5Cur1ZuO",
        "outputId": "52e8a880-296c-4a56-eb53-cc1d9ff8fea1"
      },
      "source": [
        "def get_mnist():\n",
        "    train_loader = {}\n",
        "    train_loader_binary = {}\n",
        "    test_loader = {}\n",
        "    test_loader_no_cum = {}\n",
        "    test_loader_binary = {}\n",
        "\n",
        "    for i in range(num_task):\n",
        "        train_loader[i] = torch.utils.data.DataLoader(SplitMNIST(train=True, task=i),\n",
        "                                                      batch_size=batch_size,\n",
        "                                                      num_workers=4)\n",
        "        train_loader_binary[i] = torch.utils.data.DataLoader(SplitMNIST(train=True,cum=False,binary=True, task=i),\n",
        "                                                      batch_size=batch_size,\n",
        "                                                      num_workers=4)\n",
        "        test_loader[i] = torch.utils.data.DataLoader(SplitMNIST(train=False, task=i),\n",
        "                                                     batch_size=batch_size)\n",
        "        test_loader_no_cum[i] = torch.utils.data.DataLoader(SplitMNIST(train=False, task=i, cum=False),\n",
        "                                                     batch_size=batch_size)\n",
        "        test_loader_binary[i] = torch.utils.data.DataLoader(SplitMNIST(train=False, task=i, cum=False,binary=True),\n",
        "                                                     batch_size=batch_size)\n",
        "    return train_loader,train_loader_binary, test_loader, test_loader_no_cum,test_loader_binary\n",
        "\n",
        "train_loader,train_loader_binary, test_loader, test_loader_no_cum,test_loader_binary = get_mnist()"
      ],
      "execution_count": null,
      "outputs": [
        {
          "output_type": "stream",
          "text": [
            "/usr/local/lib/python3.7/dist-packages/torch/utils/data/dataloader.py:481: UserWarning: This DataLoader will create 4 worker processes in total. Our suggested max number of worker in current system is 2, which is smaller than what this DataLoader is going to create. Please be aware that excessive worker creation might get DataLoader running slow or even freeze, lower the worker number to avoid potential slowness/freeze if necessary.\n",
            "  cpuset_checked))\n"
          ],
          "name": "stderr"
        }
      ]
    },
    {
      "cell_type": "code",
      "metadata": {
        "colab": {
          "base_uri": "https://localhost:8080/"
        },
        "id": "-R0kBkebFhsw",
        "outputId": "498dbe44-60e5-46eb-88df-ece9e82a6b0b"
      },
      "source": [
        "print(train_loader_binary)\n",
        "print(test_loader_binary)"
      ],
      "execution_count": null,
      "outputs": [
        {
          "output_type": "stream",
          "text": [
            "{0: <torch.utils.data.dataloader.DataLoader object at 0x7f42b3c44850>, 1: <torch.utils.data.dataloader.DataLoader object at 0x7f42b4897190>, 2: <torch.utils.data.dataloader.DataLoader object at 0x7f42b40ddd10>, 3: <torch.utils.data.dataloader.DataLoader object at 0x7f42b3c44a50>, 4: <torch.utils.data.dataloader.DataLoader object at 0x7f42aaed0410>}\n",
            "{0: <torch.utils.data.dataloader.DataLoader object at 0x7f42b3c78090>, 1: <torch.utils.data.dataloader.DataLoader object at 0x7f42b3c44c50>, 2: <torch.utils.data.dataloader.DataLoader object at 0x7f43112c17d0>, 3: <torch.utils.data.dataloader.DataLoader object at 0x7f42aaed01d0>, 4: <torch.utils.data.dataloader.DataLoader object at 0x7f42aaed0ad0>}\n"
          ],
          "name": "stdout"
        }
      ]
    },
    {
      "cell_type": "markdown",
      "metadata": {
        "id": "2bqdBYvY0p_l"
      },
      "source": [
        "**VISUALISING THE TASK SAMPLES**\n",
        "\n",
        "USING TRAIN LOADER BINARY AND TEST LOADER BINARY "
      ]
    },
    {
      "cell_type": "code",
      "metadata": {
        "colab": {
          "base_uri": "https://localhost:8080/",
          "height": 995
        },
        "id": "OiPs0fHQxliW",
        "outputId": "aab7f41b-0452-4a35-b26e-170a300629d7"
      },
      "source": [
        "TASK = 2\n",
        "fig = plt.figure(figsize=(10, 7))\n",
        "fig.suptitle(f'Random Training Samples from the task {TASK}')\n",
        "for batch, (X,Y) in enumerate(train_loader_binary[TASK-1]): #visualising task 1, i.e 0 and 1\n",
        "  if(batch<4):    \n",
        "    rdm = random.randint(0,63)\n",
        "    ax = fig.add_subplot(2, 2, batch+1)\n",
        "    ax.title.set_text(f'{Y[rdm]}')\n",
        "    plt.imshow(X[rdm].view(28,28))\n",
        "# TASK = 3\n",
        "fig = plt.figure(figsize=(10, 7))\n",
        "fig.suptitle(f'Random Testing Samples from the task {TASK}')\n",
        "for batch, (X,Y) in enumerate(test_loader[TASK-1]): #visualising task 1, i.e 0 and 1\n",
        "  if(batch<4):    \n",
        "    rdm = random.randint(0,63)\n",
        "    ax = fig.add_subplot(2, 2, batch+1)\n",
        "  #  ax.title.set_text(f'{Y[rdm]}')\n",
        "    plt.imshow(X[rdm].view(28,28))\n",
        "    # print(Y)"
      ],
      "execution_count": null,
      "outputs": [
        {
          "output_type": "stream",
          "text": [
            "/usr/local/lib/python3.7/dist-packages/torch/utils/data/dataloader.py:481: UserWarning: This DataLoader will create 4 worker processes in total. Our suggested max number of worker in current system is 2, which is smaller than what this DataLoader is going to create. Please be aware that excessive worker creation might get DataLoader running slow or even freeze, lower the worker number to avoid potential slowness/freeze if necessary.\n",
            "  cpuset_checked))\n"
          ],
          "name": "stderr"
        },
        {
          "output_type": "display_data",
          "data": {
            "image/png": "[encoded data removed]",
            "text/plain": [
              "<Figure size 720x504 with 4 Axes>"
            ]
          },
          "metadata": {
            "tags": [],
            "needs_background": "light"
          }
        },
        {
          "output_type": "display_data",
          "data": {
            "image/png": "[encoded data removed]",
            "text/plain": [
              "<Figure size 720x504 with 4 Axes>"
            ]
          },
          "metadata": {
            "tags": [],
            "needs_background": "light"
          }
        }
      ]
    },
    {
      "cell_type": "markdown",
      "metadata": {
        "id": "kJ5KP8Yn7CdF"
      },
      "source": [
        "**DEFINING RQD PARAMS**"
      ]
    },
    {
      "cell_type": "code",
      "metadata": {
        "id": "s-D5fium-QeV"
      },
      "source": [
        "loss_fn1 = nn.CrossEntropyLoss()\n",
        "learning_rate = 1e-3\n",
        "optimizer1 = torch.optim.SGD(model.parameters(), lr=learning_rate)"
      ],
      "execution_count": null,
      "outputs": []
    },
    {
      "cell_type": "markdown",
      "metadata": {
        "id": "joGF3rx3635p"
      },
      "source": [
        "**DEFINING TRAIN FUNCTION**"
      ]
    },
    {
      "cell_type": "code",
      "metadata": {
        "id": "-ZS7V0gp-Moo"
      },
      "source": [
        "def train(dataloader, modelx, loss_fn, optimizerx):\n",
        "    size = len(dataloader.dataset)\n",
        "    for batch, (X, y) in enumerate(dataloader):\n",
        "        X, y = X.to(device), y.to(device)\n",
        "        \n",
        "        # Compute prediction error\n",
        "        pred = modelx(X)\n",
        "        loss = loss_fn(pred, y)\n",
        "        # best_model_wts = deepcopy(model.state_dict())\n",
        "\n",
        "        # Backpropagation\n",
        "        optimizerx.zero_grad()\n",
        "        loss.backward()\n",
        "        optimizerx.step()\n",
        "\n",
        "        if batch % 100 == 0:\n",
        "            loss, current = loss.item(), batch * len(X)\n",
        "            print(f\"loss: {loss:>7f}  [{current:>5d}/{size:>5d}]\")"
      ],
      "execution_count": null,
      "outputs": []
    },
    {
      "cell_type": "markdown",
      "metadata": {
        "id": "rV3MiG9AG-fF"
      },
      "source": [
        "**CATASTROPHIC FORGETTING**"
      ]
    },
    {
      "cell_type": "markdown",
      "metadata": {
        "id": "xlwohxM48Xrf"
      },
      "source": [
        "train 2\n"
      ]
    },
    {
      "cell_type": "code",
      "metadata": {
        "id": "qqfP5Cfn8aXZ"
      },
      "source": [
        "def train2(dataloader, modelxs, loss_fn, optimizery):\n",
        "    size = len(dataloader.dataset)\n",
        "    for batch2, (X2, y2) in enumerate(dataloader):\n",
        "        X2, y2 = X2.to(device), y2.to(device)\n",
        "        \n",
        "        # Compute prediction error\n",
        "        pred2 = modelxs(X2)\n",
        "        loss2 = loss_fn(pred2, y2)\n",
        "        # best_model_wts = deepcopy(model2.state_dict())\n",
        "\n",
        "        # Backpropagation\n",
        "        optimizery.zero_grad()\n",
        "        loss2.backward()\n",
        "        optimizery.step()\n",
        "\n",
        "        if batch2 % 100 == 0:\n",
        "            loss2, current = loss2.item(), batch2 * len(X)\n",
        "            print(f\"loss: {loss2:>7f}  [{current:>5d}/{size:>5d}]\")"
      ],
      "execution_count": null,
      "outputs": []
    },
    {
      "cell_type": "markdown",
      "metadata": {
        "id": "PB7IO3kR3UMD"
      },
      "source": [
        "**DEFINING TEST FUNCTION**"
      ]
    },
    {
      "cell_type": "code",
      "metadata": {
        "id": "TUCoMmU0_8R-"
      },
      "source": [
        "def test2(dataloader, modelxs,loss_fn,task_id,cum=0):\n",
        "    size = len(dataloader.dataset)\n",
        "    modelxs.eval()\n",
        "    test_loss2, correct = 0, 0\n",
        "    with torch.no_grad():\n",
        "        for X2, y2 in dataloader:\n",
        "            X2, y2 = X2.to(device), y2.to(device)\n",
        "            pred2 = modelxs(X2)\n",
        "            test_loss2 += loss_fn(pred2, y2).item()\n",
        "            if(cum==0):\n",
        "              for i in range(len(pred2)):\n",
        "                if(i not in [2*task_id,2*task_id+1]):\n",
        "                  pred2[0:,i:i+1] = torch.tensor([[-10]])\n",
        "\n",
        "            correct += (pred2.argmax(1) == y2).type(torch.float).sum().item()\n",
        "            \n",
        "    test_loss2 /= size\n",
        "    correct /= size\n",
        "    print(f\"Test Error: \\n Accuracy: {(100*correct):>0.1f}%, Avg loss: {test_loss2:>8f} \\n\")"
      ],
      "execution_count": null,
      "outputs": []
    },
    {
      "cell_type": "markdown",
      "metadata": {
        "id": "T5qWsph23J8D"
      },
      "source": [
        "**Training a model on a task**"
      ]
    },
    {
      "cell_type": "code",
      "metadata": {
        "colab": {
          "base_uri": "https://localhost:8080/"
        },
        "id": "-OgranHF-R6F",
        "outputId": "9aa99919-3592-4ef8-da4b-25f4e279ebef"
      },
      "source": [
        "# No. of epochs for training\n",
        "epochs = 50\n",
        "\n",
        "# Select Task ID you want to train on\n",
        "TASKTRAIN = 1\n",
        "print(\"Task: \",TASKTRAIN)\n",
        "\n",
        "for t in range(epochs):\n",
        "  print(f\"{t+1} of {epochs} epochs\")\n",
        "  train(train_loader[TASKTRAIN-1],model,loss_fn1,optimizer1)\n",
        "\n",
        "test2(test_loader_binary[(TASKTRAIN-1)],model,loss_fn1,TASKTRAIN-1)\n",
        "\n"
      ],
      "execution_count": null,
      "outputs": [
        {
          "output_type": "stream",
          "text": [
            "Task:  1\n",
            "1 of 50 epochs\n"
          ],
          "name": "stdout"
        },
        {
          "output_type": "stream",
          "text": [
            "/usr/local/lib/python3.7/dist-packages/torch/utils/data/dataloader.py:481: UserWarning: This DataLoader will create 4 worker processes in total. Our suggested max number of worker in current system is 2, which is smaller than what this DataLoader is going to create. Please be aware that excessive worker creation might get DataLoader running slow or even freeze, lower the worker number to avoid potential slowness/freeze if necessary.\n",
            "  cpuset_checked))\n",
            "/usr/local/lib/python3.7/dist-packages/torch/nn/functional.py:718: UserWarning: Named tensors and all their associated APIs are an experimental feature and subject to change. Please do not use them for anything important until they are released as stable. (Triggered internally at  /pytorch/c10/core/TensorImpl.h:1156.)\n",
            "  return torch.max_pool2d(input, kernel_size, stride, padding, dilation, ceil_mode)\n"
          ],
          "name": "stderr"
        },
        {
          "output_type": "stream",
          "text": [
            "loss: 0.690233  [    0/12665]\n",
            "loss: 0.597119  [ 6400/12665]\n",
            "2 of 50 epochs\n",
            "loss: 0.489497  [    0/12665]\n",
            "loss: 0.395469  [ 6400/12665]\n",
            "3 of 50 epochs\n",
            "loss: 0.275425  [    0/12665]\n",
            "loss: 0.220141  [ 6400/12665]\n",
            "4 of 50 epochs\n",
            "loss: 0.147928  [    0/12665]\n",
            "loss: 0.135987  [ 6400/12665]\n",
            "5 of 50 epochs\n",
            "loss: 0.094682  [    0/12665]\n",
            "loss: 0.097816  [ 6400/12665]\n",
            "6 of 50 epochs\n",
            "loss: 0.070429  [    0/12665]\n",
            "loss: 0.077520  [ 6400/12665]\n",
            "7 of 50 epochs\n",
            "loss: 0.057796  [    0/12665]\n",
            "loss: 0.065156  [ 6400/12665]\n",
            "8 of 50 epochs\n",
            "loss: 0.050468  [    0/12665]\n",
            "loss: 0.056828  [ 6400/12665]\n",
            "9 of 50 epochs\n",
            "loss: 0.045896  [    0/12665]\n",
            "loss: 0.050839  [ 6400/12665]\n",
            "10 of 50 epochs\n",
            "loss: 0.042894  [    0/12665]\n",
            "loss: 0.046342  [ 6400/12665]\n",
            "11 of 50 epochs\n",
            "loss: 0.040829  [    0/12665]\n",
            "loss: 0.042851  [ 6400/12665]\n",
            "12 of 50 epochs\n",
            "loss: 0.039358  [    0/12665]\n",
            "loss: 0.040071  [ 6400/12665]\n",
            "13 of 50 epochs\n",
            "loss: 0.038264  [    0/12665]\n",
            "loss: 0.037814  [ 6400/12665]\n",
            "14 of 50 epochs\n",
            "loss: 0.037416  [    0/12665]\n",
            "loss: 0.035957  [ 6400/12665]\n",
            "15 of 50 epochs\n",
            "loss: 0.036732  [    0/12665]\n",
            "loss: 0.034399  [ 6400/12665]\n",
            "16 of 50 epochs\n",
            "loss: 0.036157  [    0/12665]\n",
            "loss: 0.033078  [ 6400/12665]\n",
            "17 of 50 epochs\n",
            "loss: 0.035649  [    0/12665]\n",
            "loss: 0.031941  [ 6400/12665]\n",
            "18 of 50 epochs\n",
            "loss: 0.035182  [    0/12665]\n",
            "loss: 0.030955  [ 6400/12665]\n",
            "19 of 50 epochs\n",
            "loss: 0.034736  [    0/12665]\n",
            "loss: 0.030083  [ 6400/12665]\n",
            "20 of 50 epochs\n",
            "loss: 0.034304  [    0/12665]\n",
            "loss: 0.029317  [ 6400/12665]\n",
            "21 of 50 epochs\n",
            "loss: 0.033875  [    0/12665]\n",
            "loss: 0.028628  [ 6400/12665]\n",
            "22 of 50 epochs\n",
            "loss: 0.033446  [    0/12665]\n",
            "loss: 0.028005  [ 6400/12665]\n",
            "23 of 50 epochs\n",
            "loss: 0.033015  [    0/12665]\n",
            "loss: 0.027441  [ 6400/12665]\n",
            "24 of 50 epochs\n",
            "loss: 0.032583  [    0/12665]\n",
            "loss: 0.026923  [ 6400/12665]\n",
            "25 of 50 epochs\n",
            "loss: 0.032143  [    0/12665]\n",
            "loss: 0.026445  [ 6400/12665]\n",
            "26 of 50 epochs\n",
            "loss: 0.031703  [    0/12665]\n",
            "loss: 0.026003  [ 6400/12665]\n",
            "27 of 50 epochs\n",
            "loss: 0.031250  [    0/12665]\n",
            "loss: 0.025587  [ 6400/12665]\n",
            "28 of 50 epochs\n",
            "loss: 0.030798  [    0/12665]\n",
            "loss: 0.025200  [ 6400/12665]\n",
            "29 of 50 epochs\n",
            "loss: 0.030341  [    0/12665]\n",
            "loss: 0.024835  [ 6400/12665]\n",
            "30 of 50 epochs\n",
            "loss: 0.029879  [    0/12665]\n",
            "loss: 0.024490  [ 6400/12665]\n",
            "31 of 50 epochs\n",
            "loss: 0.029417  [    0/12665]\n",
            "loss: 0.024158  [ 6400/12665]\n",
            "32 of 50 epochs\n",
            "loss: 0.028957  [    0/12665]\n",
            "loss: 0.023848  [ 6400/12665]\n",
            "33 of 50 epochs\n",
            "loss: 0.028496  [    0/12665]\n",
            "loss: 0.023546  [ 6400/12665]\n",
            "34 of 50 epochs\n",
            "loss: 0.028036  [    0/12665]\n",
            "loss: 0.023257  [ 6400/12665]\n",
            "35 of 50 epochs\n",
            "loss: 0.027581  [    0/12665]\n",
            "loss: 0.022980  [ 6400/12665]\n",
            "36 of 50 epochs\n",
            "loss: 0.027128  [    0/12665]\n",
            "loss: 0.022710  [ 6400/12665]\n",
            "37 of 50 epochs\n",
            "loss: 0.026677  [    0/12665]\n",
            "loss: 0.022451  [ 6400/12665]\n",
            "38 of 50 epochs\n",
            "loss: 0.026233  [    0/12665]\n",
            "loss: 0.022197  [ 6400/12665]\n",
            "39 of 50 epochs\n",
            "loss: 0.025791  [    0/12665]\n",
            "loss: 0.021952  [ 6400/12665]\n",
            "40 of 50 epochs\n",
            "loss: 0.025358  [    0/12665]\n",
            "loss: 0.021716  [ 6400/12665]\n",
            "41 of 50 epochs\n",
            "loss: 0.024931  [    0/12665]\n",
            "loss: 0.021486  [ 6400/12665]\n",
            "42 of 50 epochs\n",
            "loss: 0.024514  [    0/12665]\n",
            "loss: 0.021259  [ 6400/12665]\n",
            "43 of 50 epochs\n",
            "loss: 0.024102  [    0/12665]\n",
            "loss: 0.021042  [ 6400/12665]\n",
            "44 of 50 epochs\n",
            "loss: 0.023699  [    0/12665]\n",
            "loss: 0.020826  [ 6400/12665]\n",
            "45 of 50 epochs\n",
            "loss: 0.023298  [    0/12665]\n",
            "loss: 0.020617  [ 6400/12665]\n",
            "46 of 50 epochs\n",
            "loss: 0.022907  [    0/12665]\n",
            "loss: 0.020415  [ 6400/12665]\n",
            "47 of 50 epochs\n",
            "loss: 0.022524  [    0/12665]\n",
            "loss: 0.020215  [ 6400/12665]\n",
            "48 of 50 epochs\n",
            "loss: 0.022151  [    0/12665]\n",
            "loss: 0.020019  [ 6400/12665]\n",
            "49 of 50 epochs\n",
            "loss: 0.021784  [    0/12665]\n",
            "loss: 0.019824  [ 6400/12665]\n",
            "50 of 50 epochs\n",
            "loss: 0.021427  [    0/12665]\n",
            "loss: 0.019634  [ 6400/12665]\n",
            "Test Error: \n",
            " Accuracy: 99.8%, Avg loss: 0.000085 \n",
            "\n"
          ],
          "name": "stdout"
        }
      ]
    },
    {
      "cell_type": "markdown",
      "metadata": {
        "id": "ScruCX9b3BhL"
      },
      "source": [
        "**Catastrophic Forgetting**"
      ]
    },
    {
      "cell_type": "code",
      "metadata": {
        "id": "xnbm7h7PFWb5",
        "colab": {
          "base_uri": "https://localhost:8080/"
        },
        "outputId": "5db2dd1a-e5ee-4889-9815-ae58497a667b"
      },
      "source": [
        "for i in range(5):\n",
        "  test2(test_loader_binary[(i)],model,loss_fn1,i)"
      ],
      "execution_count": null,
      "outputs": [
        {
          "output_type": "stream",
          "text": [
            "Test Error: \n",
            " Accuracy: 99.8%, Avg loss: 0.000085 \n",
            "\n",
            "Test Error: \n",
            " Accuracy: 50.5%, Avg loss: 0.023582 \n",
            "\n",
            "Test Error: \n",
            " Accuracy: 52.4%, Avg loss: 0.027931 \n",
            "\n",
            "Test Error: \n",
            " Accuracy: 48.2%, Avg loss: 0.015860 \n",
            "\n",
            "Test Error: \n",
            " Accuracy: 49.1%, Avg loss: 0.027039 \n",
            "\n"
          ],
          "name": "stdout"
        }
      ]
    },
    {
      "cell_type": "code",
      "metadata": {
        "colab": {
          "base_uri": "https://localhost:8080/"
        },
        "id": "MS4cvOhyxqpl",
        "outputId": "57390b68-4410-460f-f553-0b3450357623"
      },
      "source": [
        "train(train_loader[0],model,loss_fn1,optimizer1)"
      ],
      "execution_count": null,
      "outputs": [
        {
          "output_type": "stream",
          "text": [
            "/usr/local/lib/python3.7/dist-packages/torch/utils/data/dataloader.py:481: UserWarning: This DataLoader will create 4 worker processes in total. Our suggested max number of worker in current system is 2, which is smaller than what this DataLoader is going to create. Please be aware that excessive worker creation might get DataLoader running slow or even freeze, lower the worker number to avoid potential slowness/freeze if necessary.\n",
            "  cpuset_checked))\n"
          ],
          "name": "stderr"
        },
        {
          "output_type": "stream",
          "text": [
            "loss: 0.021081  [    0/12665]\n",
            "loss: 0.019449  [ 6400/12665]\n"
          ],
          "name": "stdout"
        }
      ]
    },
    {
      "cell_type": "code",
      "metadata": {
        "id": "tHsJ8mBoyf3Q"
      },
      "source": [
        "\n",
        "class NeuralNetwork2(nn.Module):\n",
        "  # ([W-F+2P]/S)+1.\n",
        "  def __init__(self):\n",
        "    super(NeuralNetwork2, self).__init__()\n",
        "    self.conv12 = nn.Sequential(         \n",
        "        nn.Conv2d(\n",
        "            in_channels=1,              \n",
        "            out_channels=16,            \n",
        "            kernel_size=5,              \n",
        "            stride=1,                   \n",
        "            padding=2,                  \n",
        "        ),                              \n",
        "        nn.ReLU(),                      \n",
        "        nn.MaxPool2d(kernel_size=2),    \n",
        "    )\n",
        "    self.conv22 = nn.Sequential(         \n",
        "        nn.Conv2d(16, 32, 5, 1, 2),     \n",
        "        nn.ReLU(),                      \n",
        "        nn.MaxPool2d(2),                \n",
        "    )\n",
        "            # fully connected layer, output 10 classes\n",
        "    self.out2 = nn.Linear(32 *7  * 7, 4)\n",
        "\n",
        "  def forward(self, xs):\n",
        "    xs = self.conv12(xs)\n",
        "    xs = self.conv22(xs)\n",
        "    xs = xs.view(xs.size(0), -1)       \n",
        "    output2 = self.out2(xs)\n",
        "    return output2   \n",
        "\n",
        "model2 = NeuralNetwork2().to(device)\n",
        "loss_fn2 = nn.CrossEntropyLoss()\n",
        "optimizer2 = torch.optim.SGD(model2.parameters(), lr=learning_rate)\n"
      ],
      "execution_count": null,
      "outputs": []
    },
    {
      "cell_type": "markdown",
      "metadata": {
        "id": "KS_MVZWo3qvM"
      },
      "source": [
        "**3,4 params of Last layer of model(model2) initialised with 4 output features**"
      ]
    },
    {
      "cell_type": "code",
      "metadata": {
        "colab": {
          "base_uri": "https://localhost:8080/"
        },
        "id": "HDypW8q5zzK_",
        "outputId": "819bacc4-f8d1-4ac0-c3d8-17684e153f9c"
      },
      "source": [
        "model2.out2.weight.data[2:]"
      ],
      "execution_count": null,
      "outputs": [
        {
          "output_type": "execute_result",
          "data": {
            "text/plain": [
              "tensor([[-0.0218,  0.0019,  0.0135,  ..., -0.0108,  0.0045,  0.0058],\n",
              "        [-0.0032, -0.0195, -0.0124,  ...,  0.0230,  0.0185,  0.0063]],\n",
              "       device='cuda:0')"
            ]
          },
          "metadata": {
            "tags": []
          },
          "execution_count": 16
        }
      ]
    },
    {
      "cell_type": "markdown",
      "metadata": {
        "id": "5aArwCaf39GC"
      },
      "source": [
        "**Last layer of model 1 trained on task 0**"
      ]
    },
    {
      "cell_type": "code",
      "metadata": {
        "colab": {
          "base_uri": "https://localhost:8080/"
        },
        "id": "xIR0i4c7_kIW",
        "outputId": "0840a876-e8c9-4aa4-8ed3-9fcd90814c15"
      },
      "source": [
        "model.out.weight.data"
      ],
      "execution_count": null,
      "outputs": [
        {
          "output_type": "execute_result",
          "data": {
            "text/plain": [
              "tensor([[ 0.0083,  0.0242,  0.0280,  ..., -0.0273, -0.0135, -0.0196],\n",
              "        [ 0.0239,  0.0216, -0.0118,  ...,  0.0202, -0.0076,  0.0104]],\n",
              "       device='cuda:0')"
            ]
          },
          "metadata": {
            "tags": []
          },
          "execution_count": 17
        }
      ]
    },
    {
      "cell_type": "markdown",
      "metadata": {
        "id": "DMvqq_9m4HXK"
      },
      "source": [
        "**Concatenating last 2 params of model2 with 2 params of model**"
      ]
    },
    {
      "cell_type": "code",
      "metadata": {
        "id": "GSySeRfB_8sn"
      },
      "source": [
        "newlayerdata = torch.cat((model.out.weight.data,model2.out2.weight.data[2:]),0)"
      ],
      "execution_count": null,
      "outputs": []
    },
    {
      "cell_type": "code",
      "metadata": {
        "colab": {
          "base_uri": "https://localhost:8080/"
        },
        "id": "Gn7yiawzANGS",
        "outputId": "377fc2f6-1488-4baf-802a-ccd733e64513"
      },
      "source": [
        "print(newlayerdata)\n",
        "# model2.conv12[0].weight = torch.nn.Parameter(model.conv1[0].weight)\n",
        "# model2.conv22[0].weight = torch.nn.Parameter(model.conv2[0].weight)\n",
        "model2.out2.weight = torch.nn.Parameter(newlayerdata)"
      ],
      "execution_count": null,
      "outputs": [
        {
          "output_type": "stream",
          "text": [
            "tensor([[ 0.0083,  0.0242,  0.0280,  ..., -0.0273, -0.0135, -0.0196],\n",
            "        [ 0.0239,  0.0216, -0.0118,  ...,  0.0202, -0.0076,  0.0104],\n",
            "        [-0.0218,  0.0019,  0.0135,  ..., -0.0108,  0.0045,  0.0058],\n",
            "        [-0.0032, -0.0195, -0.0124,  ...,  0.0230,  0.0185,  0.0063]],\n",
            "       device='cuda:0')\n"
          ],
          "name": "stdout"
        }
      ]
    },
    {
      "cell_type": "code",
      "metadata": {
        "id": "bN7JQlNrDMNc",
        "colab": {
          "base_uri": "https://localhost:8080/"
        },
        "outputId": "2afadc83-1dfb-49ab-8df4-619829382304"
      },
      "source": [
        "list(model2.state_dict())\n",
        "model2.conv12[0]\n",
        "list(model.state_dict())"
      ],
      "execution_count": null,
      "outputs": [
        {
          "output_type": "execute_result",
          "data": {
            "text/plain": [
              "['conv1.0.weight',\n",
              " 'conv1.0.bias',\n",
              " 'conv2.0.weight',\n",
              " 'conv2.0.bias',\n",
              " 'out.weight',\n",
              " 'out.bias']"
            ]
          },
          "metadata": {
            "tags": []
          },
          "execution_count": 20
        }
      ]
    },
    {
      "cell_type": "code",
      "metadata": {
        "colab": {
          "base_uri": "https://localhost:8080/"
        },
        "id": "biNHc5cm5hCK",
        "outputId": "33676f04-246f-439a-da0e-3102228107a3"
      },
      "source": [
        "for i in range(50):\n",
        "  train(train_loader[0],model2,loss_fn2,optimizer2)\n",
        "for i in range(50):\n",
        "  train(train_loader[1],model2,loss_fn2,optimizer2)\n"
      ],
      "execution_count": null,
      "outputs": [
        {
          "output_type": "stream",
          "text": [
            "/usr/local/lib/python3.7/dist-packages/torch/utils/data/dataloader.py:481: UserWarning: This DataLoader will create 4 worker processes in total. Our suggested max number of worker in current system is 2, which is smaller than what this DataLoader is going to create. Please be aware that excessive worker creation might get DataLoader running slow or even freeze, lower the worker number to avoid potential slowness/freeze if necessary.\n",
            "  cpuset_checked))\n"
          ],
          "name": "stderr"
        },
        {
          "output_type": "stream",
          "text": [
            "loss: 1.352211  [    0/12665]\n",
            "loss: 1.011318  [ 6400/12665]\n",
            "loss: 0.675435  [    0/12665]\n",
            "loss: 0.510533  [ 6400/12665]\n",
            "loss: 0.321548  [    0/12665]\n",
            "loss: 0.284691  [ 6400/12665]\n",
            "loss: 0.189774  [    0/12665]\n",
            "loss: 0.189511  [ 6400/12665]\n",
            "loss: 0.133020  [    0/12665]\n",
            "loss: 0.141906  [ 6400/12665]\n",
            "loss: 0.103535  [    0/12665]\n",
            "loss: 0.114284  [ 6400/12665]\n",
            "loss: 0.086004  [    0/12665]\n",
            "loss: 0.096478  [ 6400/12665]\n",
            "loss: 0.074558  [    0/12665]\n",
            "loss: 0.084057  [ 6400/12665]\n",
            "loss: 0.066577  [    0/12665]\n",
            "loss: 0.074898  [ 6400/12665]\n",
            "loss: 0.060677  [    0/12665]\n",
            "loss: 0.067853  [ 6400/12665]\n",
            "loss: 0.056138  [    0/12665]\n",
            "loss: 0.062299  [ 6400/12665]\n",
            "loss: 0.052574  [    0/12665]\n",
            "loss: 0.057909  [ 6400/12665]\n",
            "loss: 0.049691  [    0/12665]\n",
            "loss: 0.054299  [ 6400/12665]\n",
            "loss: 0.047252  [    0/12665]\n",
            "loss: 0.051159  [ 6400/12665]\n",
            "loss: 0.045270  [    0/12665]\n",
            "loss: 0.048438  [ 6400/12665]\n",
            "loss: 0.043612  [    0/12665]\n",
            "loss: 0.046047  [ 6400/12665]\n",
            "loss: 0.042201  [    0/12665]\n",
            "loss: 0.043954  [ 6400/12665]\n",
            "loss: 0.040980  [    0/12665]\n",
            "loss: 0.042096  [ 6400/12665]\n",
            "loss: 0.039914  [    0/12665]\n",
            "loss: 0.040434  [ 6400/12665]\n",
            "loss: 0.038959  [    0/12665]\n",
            "loss: 0.038942  [ 6400/12665]\n",
            "loss: 0.038113  [    0/12665]\n",
            "loss: 0.037590  [ 6400/12665]\n",
            "loss: 0.037346  [    0/12665]\n",
            "loss: 0.036360  [ 6400/12665]\n",
            "loss: 0.036643  [    0/12665]\n",
            "loss: 0.035230  [ 6400/12665]\n",
            "loss: 0.036000  [    0/12665]\n",
            "loss: 0.034190  [ 6400/12665]\n",
            "loss: 0.035402  [    0/12665]\n",
            "loss: 0.033236  [ 6400/12665]\n",
            "loss: 0.034850  [    0/12665]\n",
            "loss: 0.032348  [ 6400/12665]\n",
            "loss: 0.034338  [    0/12665]\n",
            "loss: 0.031522  [ 6400/12665]\n",
            "loss: 0.033861  [    0/12665]\n",
            "loss: 0.030755  [ 6400/12665]\n",
            "loss: 0.033407  [    0/12665]\n",
            "loss: 0.030038  [ 6400/12665]\n",
            "loss: 0.032975  [    0/12665]\n",
            "loss: 0.029362  [ 6400/12665]\n",
            "loss: 0.032567  [    0/12665]\n",
            "loss: 0.028729  [ 6400/12665]\n",
            "loss: 0.032179  [    0/12665]\n",
            "loss: 0.028131  [ 6400/12665]\n",
            "loss: 0.031807  [    0/12665]\n",
            "loss: 0.027568  [ 6400/12665]\n",
            "loss: 0.031445  [    0/12665]\n",
            "loss: 0.027035  [ 6400/12665]\n",
            "loss: 0.031103  [    0/12665]\n",
            "loss: 0.026527  [ 6400/12665]\n",
            "loss: 0.030772  [    0/12665]\n",
            "loss: 0.026047  [ 6400/12665]\n",
            "loss: 0.030459  [    0/12665]\n",
            "loss: 0.025589  [ 6400/12665]\n",
            "loss: 0.030150  [    0/12665]\n",
            "loss: 0.025152  [ 6400/12665]\n",
            "loss: 0.029849  [    0/12665]\n",
            "loss: 0.024735  [ 6400/12665]\n",
            "loss: 0.029556  [    0/12665]\n",
            "loss: 0.024335  [ 6400/12665]\n",
            "loss: 0.029276  [    0/12665]\n",
            "loss: 0.023954  [ 6400/12665]\n",
            "loss: 0.028997  [    0/12665]\n",
            "loss: 0.023590  [ 6400/12665]\n",
            "loss: 0.028725  [    0/12665]\n",
            "loss: 0.023237  [ 6400/12665]\n",
            "loss: 0.028461  [    0/12665]\n",
            "loss: 0.022900  [ 6400/12665]\n",
            "loss: 0.028197  [    0/12665]\n",
            "loss: 0.022573  [ 6400/12665]\n",
            "loss: 0.027937  [    0/12665]\n",
            "loss: 0.022257  [ 6400/12665]\n",
            "loss: 0.027678  [    0/12665]\n",
            "loss: 0.021955  [ 6400/12665]\n",
            "loss: 0.027421  [    0/12665]\n",
            "loss: 0.021662  [ 6400/12665]\n",
            "loss: 0.027167  [    0/12665]\n",
            "loss: 0.021381  [ 6400/12665]\n",
            "loss: 0.026927  [    0/12665]\n",
            "loss: 0.021109  [ 6400/12665]\n",
            "loss: 3.918839  [    0/12089]\n",
            "loss: 2.393735  [ 6400/12089]\n",
            "loss: 1.761745  [    0/12089]\n",
            "loss: 1.439270  [ 6400/12089]\n",
            "loss: 1.251573  [    0/12089]\n",
            "loss: 1.114327  [ 6400/12089]\n",
            "loss: 1.019790  [    0/12089]\n",
            "loss: 0.932395  [ 6400/12089]\n",
            "loss: 0.877267  [    0/12089]\n",
            "loss: 0.817538  [ 6400/12089]\n",
            "loss: 0.781404  [    0/12089]\n",
            "loss: 0.735738  [ 6400/12089]\n",
            "loss: 0.708371  [    0/12089]\n",
            "loss: 0.670361  [ 6400/12089]\n",
            "loss: 0.647234  [    0/12089]\n",
            "loss: 0.615518  [ 6400/12089]\n",
            "loss: 0.594602  [    0/12089]\n",
            "loss: 0.568468  [ 6400/12089]\n",
            "loss: 0.548766  [    0/12089]\n",
            "loss: 0.527091  [ 6400/12089]\n",
            "loss: 0.508221  [    0/12089]\n",
            "loss: 0.490712  [ 6400/12089]\n",
            "loss: 0.472347  [    0/12089]\n",
            "loss: 0.458550  [ 6400/12089]\n",
            "loss: 0.440442  [    0/12089]\n",
            "loss: 0.430049  [ 6400/12089]\n",
            "loss: 0.411780  [    0/12089]\n",
            "loss: 0.404527  [ 6400/12089]\n",
            "loss: 0.386077  [    0/12089]\n",
            "loss: 0.381526  [ 6400/12089]\n",
            "loss: 0.362887  [    0/12089]\n",
            "loss: 0.360849  [ 6400/12089]\n",
            "loss: 0.341798  [    0/12089]\n",
            "loss: 0.342201  [ 6400/12089]\n",
            "loss: 0.322560  [    0/12089]\n",
            "loss: 0.325236  [ 6400/12089]\n",
            "loss: 0.305108  [    0/12089]\n",
            "loss: 0.309855  [ 6400/12089]\n",
            "loss: 0.289129  [    0/12089]\n",
            "loss: 0.295833  [ 6400/12089]\n",
            "loss: 0.274561  [    0/12089]\n",
            "loss: 0.283020  [ 6400/12089]\n",
            "loss: 0.261222  [    0/12089]\n",
            "loss: 0.271242  [ 6400/12089]\n",
            "loss: 0.248941  [    0/12089]\n",
            "loss: 0.260464  [ 6400/12089]\n",
            "loss: 0.237633  [    0/12089]\n",
            "loss: 0.250548  [ 6400/12089]\n",
            "loss: 0.227225  [    0/12089]\n",
            "loss: 0.241418  [ 6400/12089]\n",
            "loss: 0.217670  [    0/12089]\n",
            "loss: 0.233018  [ 6400/12089]\n",
            "loss: 0.208858  [    0/12089]\n",
            "loss: 0.225216  [ 6400/12089]\n",
            "loss: 0.200725  [    0/12089]\n",
            "loss: 0.218000  [ 6400/12089]\n",
            "loss: 0.193205  [    0/12089]\n",
            "loss: 0.211301  [ 6400/12089]\n",
            "loss: 0.186228  [    0/12089]\n",
            "loss: 0.205047  [ 6400/12089]\n",
            "loss: 0.179715  [    0/12089]\n",
            "loss: 0.199179  [ 6400/12089]\n",
            "loss: 0.173637  [    0/12089]\n",
            "loss: 0.193668  [ 6400/12089]\n",
            "loss: 0.167957  [    0/12089]\n",
            "loss: 0.188499  [ 6400/12089]\n",
            "loss: 0.162649  [    0/12089]\n",
            "loss: 0.183623  [ 6400/12089]\n",
            "loss: 0.157646  [    0/12089]\n",
            "loss: 0.179030  [ 6400/12089]\n",
            "loss: 0.152937  [    0/12089]\n",
            "loss: 0.174717  [ 6400/12089]\n",
            "loss: 0.148519  [    0/12089]\n",
            "loss: 0.170642  [ 6400/12089]\n",
            "loss: 0.144356  [    0/12089]\n",
            "loss: 0.166773  [ 6400/12089]\n",
            "loss: 0.140442  [    0/12089]\n",
            "loss: 0.163089  [ 6400/12089]\n",
            "loss: 0.136743  [    0/12089]\n",
            "loss: 0.159564  [ 6400/12089]\n",
            "loss: 0.133255  [    0/12089]\n",
            "loss: 0.156214  [ 6400/12089]\n",
            "loss: 0.130006  [    0/12089]\n",
            "loss: 0.153031  [ 6400/12089]\n",
            "loss: 0.126911  [    0/12089]\n",
            "loss: 0.149970  [ 6400/12089]\n",
            "loss: 0.123951  [    0/12089]\n",
            "loss: 0.147056  [ 6400/12089]\n",
            "loss: 0.121139  [    0/12089]\n",
            "loss: 0.144264  [ 6400/12089]\n",
            "loss: 0.118449  [    0/12089]\n",
            "loss: 0.141573  [ 6400/12089]\n",
            "loss: 0.115899  [    0/12089]\n",
            "loss: 0.139022  [ 6400/12089]\n",
            "loss: 0.113452  [    0/12089]\n",
            "loss: 0.136610  [ 6400/12089]\n",
            "loss: 0.111095  [    0/12089]\n",
            "loss: 0.134315  [ 6400/12089]\n",
            "loss: 0.108835  [    0/12089]\n",
            "loss: 0.132108  [ 6400/12089]\n"
          ],
          "name": "stdout"
        }
      ]
    },
    {
      "cell_type": "code",
      "metadata": {
        "colab": {
          "base_uri": "https://localhost:8080/"
        },
        "id": "48qLPZlr75Pw",
        "outputId": "4a239464-f940-4108-fae0-0a81891b0862"
      },
      "source": [
        "# task 0\n",
        "test2(test_loader_no_cum[0],model2,loss_fn2,0,cum=0) \n",
        "\n",
        "# task 1\n",
        "test2(test_loader_no_cum[1],model2,loss_fn2,1,cum=0) \n"
      ],
      "execution_count": null,
      "outputs": [
        {
          "output_type": "stream",
          "text": [
            "Test Error: \n",
            " Accuracy: 91.2%, Avg loss: 0.055909 \n",
            "\n",
            "Test Error: \n",
            " Accuracy: 97.3%, Avg loss: 0.001924 \n",
            "\n"
          ],
          "name": "stdout"
        }
      ]
    },
    {
      "cell_type": "markdown",
      "metadata": {
        "id": "G7qdjOV8CyLM"
      },
      "source": [
        "**Copying first and third layers**\n",
        "\n",
        "Test Error: \n",
        " Accuracy: 87.4%, Avg loss: 0.018077 \n",
        "\n",
        "Test Error: \n",
        " Accuracy: 81.6%, Avg loss: 0.013957 \n",
        "\n",
        " **Copying only Last layer**\n",
        "\n",
        "Test Error: \n",
        " Accuracy: 99.3%, Avg loss: 0.021622 \n",
        "\n",
        "Test Error: \n",
        " Accuracy: 90.9%, Avg loss: 0.012751\n",
        "\n",
        " **Copying All layers**\n",
        "\n",
        "Test Error: \n",
        " Accuracy: 99.0%, Avg loss: 0.008059 \n",
        "\n",
        "Test Error: \n",
        " Accuracy: 48.2%, Avg loss: 0.020329\n",
        "\n",
        "\n"
      ]
    },
    {
      "cell_type": "code",
      "metadata": {
        "id": "MMkEbwuZBM_q"
      },
      "source": [
        ""
      ],
      "execution_count": null,
      "outputs": []
    }
  ]
}